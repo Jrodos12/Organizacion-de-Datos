{
  "nbformat": 4,
  "nbformat_minor": 0,
  "metadata": {
    "colab": {
      "provenance": [],
      "authorship_tag": "ABX9TyNahDt9I0zgnuItU9xEAi26",
      "include_colab_link": true
    },
    "kernelspec": {
      "name": "python3",
      "display_name": "Python 3"
    },
    "language_info": {
      "name": "python"
    }
  },
  "cells": [
    {
      "cell_type": "markdown",
      "metadata": {
        "id": "view-in-github",
        "colab_type": "text"
      },
      "source": [
        "<a href=\"https://colab.research.google.com/github/Jrodos12/Organizacion-de-Datos/blob/main/Analisis%20exploratorio%20de%20datos/Pandas_1_final.ipynb\" target=\"_parent\"><img src=\"https://colab.research.google.com/assets/colab-badge.svg\" alt=\"Open In Colab\"/></a>"
      ]
    },
    {
      "cell_type": "markdown",
      "source": [
        "#Cual es el porcentaje de títulos de contenidos de wikipedia cuya longitud es menor a 20 (⭐)"
      ],
      "metadata": {
        "id": "7QLkKYeSj05k"
      }
    },
    {
      "cell_type": "code",
      "source": [
        "from google.colab import drive\n",
        "drive.mount('/content/drive')"
      ],
      "metadata": {
        "colab": {
          "base_uri": "https://localhost:8080/"
        },
        "id": "Z8ZzESlceyHi",
        "outputId": "a2882bb1-65ab-4b7f-d3a3-1dc46c3485dd"
      },
      "execution_count": null,
      "outputs": [
        {
          "output_type": "stream",
          "name": "stdout",
          "text": [
            "Mounted at /content/drive\n"
          ]
        }
      ]
    },
    {
      "cell_type": "code",
      "execution_count": null,
      "metadata": {
        "id": "C9Q6lfXPewcZ"
      },
      "outputs": [],
      "source": [
        "import pandas as pd\n",
        "dataframeContenidos = pd.read_csv(\"drive/MyDrive/contents.csv\")\n"
      ]
    },
    {
      "cell_type": "code",
      "source": [
        "dataframeContenidos = dataframeContenidos.rename(columns = {\"title\":\"titulo\"})\n",
        "#analizo un poco el dataframe para entenderlo\n",
        "dataframeContenidos.info()\n",
        "#verifico si hay Nand values en el dataframe\n",
        "dataframeContenidos['titulo'].isnull().sum()"
      ],
      "metadata": {
        "colab": {
          "base_uri": "https://localhost:8080/"
        },
        "id": "0ovcMT-JhjNR",
        "outputId": "d0aef810-5005-41ee-ded9-9eab15c34f74"
      },
      "execution_count": null,
      "outputs": [
        {
          "output_type": "stream",
          "name": "stdout",
          "text": [
            "<class 'pandas.core.frame.DataFrame'>\n",
            "RangeIndex: 4132164 entries, 0 to 4132163\n",
            "Data columns (total 10 columns):\n",
            " #   Column              Dtype  \n",
            "---  ------              -----  \n",
            " 0   titulo              object \n",
            " 1   id                  int64  \n",
            " 2   namespace           int64  \n",
            " 3   revision_id         int64  \n",
            " 4   parent_revision     float64\n",
            " 5   revision_timestamp  object \n",
            " 6   revisor_username    object \n",
            " 7   revisor_id          float64\n",
            " 8   revisor_ip          object \n",
            " 9   revisor_comment     object \n",
            "dtypes: float64(2), int64(3), object(5)\n",
            "memory usage: 315.3+ MB\n"
          ]
        },
        {
          "output_type": "execute_result",
          "data": {
            "text/plain": [
              "4"
            ]
          },
          "metadata": {},
          "execution_count": 28
        }
      ]
    },
    {
      "cell_type": "code",
      "source": [
        "#como encontre Nand, tomo la decision de si el titulo es Nand contarlos como titulos vacios(seran menores a 20)\n",
        "#cuento la cantidad de titulos totales\n",
        "cantidadTitulos = dataframeContenidos['titulo'].count()"
      ],
      "metadata": {
        "id": "mxAeEVlw5njd"
      },
      "execution_count": null,
      "outputs": []
    },
    {
      "cell_type": "code",
      "source": [
        "#cantidad de titulos con longitud menor a 20 caracteres\n",
        "cantidadTitulosMenores = dataframeContenidos['titulo'].astype(str).map(lambda x: len(x) < 20).sum()"
      ],
      "metadata": {
        "id": "zOTr6d0XwCjV"
      },
      "execution_count": null,
      "outputs": []
    },
    {
      "cell_type": "code",
      "source": [
        "#Entonces el promedio sera:\n",
        "cantidadTitulosMenores * 100 / cantidadTitulos"
      ],
      "metadata": {
        "colab": {
          "base_uri": "https://localhost:8080/"
        },
        "id": "oeoVJdtA49af",
        "outputId": "6c006330-2fb9-4669-98e4-f68b19cc191a"
      },
      "execution_count": null,
      "outputs": [
        {
          "output_type": "execute_result",
          "data": {
            "text/plain": [
              "48.98525226515914"
            ]
          },
          "metadata": {},
          "execution_count": 43
        }
      ]
    }
  ]
}