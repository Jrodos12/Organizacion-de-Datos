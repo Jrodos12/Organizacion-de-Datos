{
  "nbformat": 4,
  "nbformat_minor": 0,
  "metadata": {
    "colab": {
      "provenance": [],
      "authorship_tag": "ABX9TyMhVVWzCYXC6t45747XMJ2P",
      "include_colab_link": true
    },
    "kernelspec": {
      "name": "python3",
      "display_name": "Python 3"
    },
    "language_info": {
      "name": "python"
    }
  },
  "cells": [
    {
      "cell_type": "markdown",
      "metadata": {
        "id": "view-in-github",
        "colab_type": "text"
      },
      "source": [
        "<a href=\"https://colab.research.google.com/github/Jrodos12/Organizacion-de-Datos/blob/main/Analisis%20exploratorio%20de%20datos/spark21.ipynb\" target=\"_parent\"><img src=\"https://colab.research.google.com/assets/colab-badge.svg\" alt=\"Open In Colab\"/></a>"
      ]
    },
    {
      "cell_type": "markdown",
      "source": [
        "#El contenido con mayor cantidad de de acciones realizadas para todos los tipos posibles de acciones (⭐⭐⭐)."
      ],
      "metadata": {
        "id": "iF29GH8N-986"
      }
    },
    {
      "cell_type": "code",
      "execution_count": null,
      "metadata": {
        "id": "eiFdhefniGm2",
        "colab": {
          "base_uri": "https://localhost:8080/"
        },
        "outputId": "220cbc0f-4a62-4e6b-a739-7972bd751bf1"
      },
      "outputs": [
        {
          "output_type": "stream",
          "name": "stdout",
          "text": [
            "Looking in indexes: https://pypi.org/simple, https://us-python.pkg.dev/colab-wheels/public/simple/\n",
            "Collecting pyspark\n",
            "  Downloading pyspark-3.4.0.tar.gz (310.8 MB)\n",
            "\u001b[2K     \u001b[90m━━━━━━━━━━━━━━━━━━━━━━━━━━━━━━━━━━━━━━━\u001b[0m \u001b[32m310.8/310.8 MB\u001b[0m \u001b[31m3.7 MB/s\u001b[0m eta \u001b[36m0:00:00\u001b[0m\n",
            "\u001b[?25h  Preparing metadata (setup.py) ... \u001b[?25l\u001b[?25hdone\n",
            "Requirement already satisfied: py4j==0.10.9.7 in /usr/local/lib/python3.10/dist-packages (from pyspark) (0.10.9.7)\n",
            "Building wheels for collected packages: pyspark\n",
            "  Building wheel for pyspark (setup.py) ... \u001b[?25l\u001b[?25hdone\n",
            "  Created wheel for pyspark: filename=pyspark-3.4.0-py2.py3-none-any.whl size=311317145 sha256=af8e2437583e6d5684000163470ffc3a93ea4a538e00631d65fb459d973e2790\n",
            "  Stored in directory: /root/.cache/pip/wheels/7b/1b/4b/3363a1d04368e7ff0d408e57ff57966fcdf00583774e761327\n",
            "Successfully built pyspark\n",
            "Installing collected packages: pyspark\n",
            "Successfully installed pyspark-3.4.0\n",
            "The following additional packages will be installed:\n",
            "  libxtst6 openjdk-8-jre-headless\n",
            "Suggested packages:\n",
            "  openjdk-8-demo openjdk-8-source libnss-mdns fonts-dejavu-extra\n",
            "  fonts-ipafont-gothic fonts-ipafont-mincho fonts-wqy-microhei\n",
            "  fonts-wqy-zenhei fonts-indic\n",
            "The following NEW packages will be installed:\n",
            "  libxtst6 openjdk-8-jdk-headless openjdk-8-jre-headless\n",
            "0 upgraded, 3 newly installed, 0 to remove and 24 not upgraded.\n",
            "Need to get 36.5 MB of archives.\n",
            "After this operation, 144 MB of additional disk space will be used.\n",
            "Selecting previously unselected package libxtst6:amd64.\n",
            "(Reading database ... 122518 files and directories currently installed.)\n",
            "Preparing to unpack .../libxtst6_2%3a1.2.3-1_amd64.deb ...\n",
            "Unpacking libxtst6:amd64 (2:1.2.3-1) ...\n",
            "Selecting previously unselected package openjdk-8-jre-headless:amd64.\n",
            "Preparing to unpack .../openjdk-8-jre-headless_8u362-ga-0ubuntu1~20.04.1_amd64.deb ...\n",
            "Unpacking openjdk-8-jre-headless:amd64 (8u362-ga-0ubuntu1~20.04.1) ...\n",
            "Selecting previously unselected package openjdk-8-jdk-headless:amd64.\n",
            "Preparing to unpack .../openjdk-8-jdk-headless_8u362-ga-0ubuntu1~20.04.1_amd64.deb ...\n",
            "Unpacking openjdk-8-jdk-headless:amd64 (8u362-ga-0ubuntu1~20.04.1) ...\n",
            "Setting up libxtst6:amd64 (2:1.2.3-1) ...\n",
            "Setting up openjdk-8-jre-headless:amd64 (8u362-ga-0ubuntu1~20.04.1) ...\n",
            "update-alternatives: using /usr/lib/jvm/java-8-openjdk-amd64/jre/bin/orbd to provide /usr/bin/orbd (orbd) in auto mode\n",
            "update-alternatives: using /usr/lib/jvm/java-8-openjdk-amd64/jre/bin/servertool to provide /usr/bin/servertool (servertool) in auto mode\n",
            "update-alternatives: using /usr/lib/jvm/java-8-openjdk-amd64/jre/bin/tnameserv to provide /usr/bin/tnameserv (tnameserv) in auto mode\n",
            "Setting up openjdk-8-jdk-headless:amd64 (8u362-ga-0ubuntu1~20.04.1) ...\n",
            "update-alternatives: using /usr/lib/jvm/java-8-openjdk-amd64/bin/idlj to provide /usr/bin/idlj (idlj) in auto mode\n",
            "update-alternatives: using /usr/lib/jvm/java-8-openjdk-amd64/bin/wsimport to provide /usr/bin/wsimport (wsimport) in auto mode\n",
            "update-alternatives: using /usr/lib/jvm/java-8-openjdk-amd64/bin/jsadebugd to provide /usr/bin/jsadebugd (jsadebugd) in auto mode\n",
            "update-alternatives: using /usr/lib/jvm/java-8-openjdk-amd64/bin/native2ascii to provide /usr/bin/native2ascii (native2ascii) in auto mode\n",
            "update-alternatives: using /usr/lib/jvm/java-8-openjdk-amd64/bin/javah to provide /usr/bin/javah (javah) in auto mode\n",
            "update-alternatives: using /usr/lib/jvm/java-8-openjdk-amd64/bin/hsdb to provide /usr/bin/hsdb (hsdb) in auto mode\n",
            "update-alternatives: using /usr/lib/jvm/java-8-openjdk-amd64/bin/clhsdb to provide /usr/bin/clhsdb (clhsdb) in auto mode\n",
            "update-alternatives: using /usr/lib/jvm/java-8-openjdk-amd64/bin/xjc to provide /usr/bin/xjc (xjc) in auto mode\n",
            "update-alternatives: using /usr/lib/jvm/java-8-openjdk-amd64/bin/schemagen to provide /usr/bin/schemagen (schemagen) in auto mode\n",
            "update-alternatives: using /usr/lib/jvm/java-8-openjdk-amd64/bin/extcheck to provide /usr/bin/extcheck (extcheck) in auto mode\n",
            "update-alternatives: using /usr/lib/jvm/java-8-openjdk-amd64/bin/jhat to provide /usr/bin/jhat (jhat) in auto mode\n",
            "update-alternatives: using /usr/lib/jvm/java-8-openjdk-amd64/bin/wsgen to provide /usr/bin/wsgen (wsgen) in auto mode\n",
            "Processing triggers for libc-bin (2.31-0ubuntu9.9) ...\n"
          ]
        }
      ],
      "source": [
        "!pip install pyspark\n",
        "!pip install -U -q PyDrive\n",
        "!apt install openjdk-8-jdk-headless -qq\n",
        "import os\n",
        "os.environ[\"JAVA_HOME\"] = \"/usr/lib/jvm/java-8-openjdk-amd64\""
      ]
    },
    {
      "cell_type": "code",
      "source": [
        "from pydrive.auth import GoogleAuth\n",
        "from pydrive.drive import GoogleDrive\n",
        "from google.colab import auth\n",
        "from oauth2client.client import GoogleCredentials\n",
        "from pyspark.sql import *\n",
        "from pyspark.sql.functions import *\n",
        "from pyspark import SparkContext\n",
        "from pyspark.sql import SQLContext\n",
        "import pandas as pd"
      ],
      "metadata": {
        "id": "xtXdK3GhFqMm"
      },
      "execution_count": null,
      "outputs": []
    },
    {
      "cell_type": "code",
      "source": [
        "auth.authenticate_user()\n",
        "gauth = GoogleAuth()\n",
        "gauth.credentials = GoogleCredentials.get_application_default()\n",
        "drive = GoogleDrive(gauth)"
      ],
      "metadata": {
        "id": "in9XpdtUiPoZ"
      },
      "execution_count": null,
      "outputs": []
    },
    {
      "cell_type": "code",
      "source": [
        "from google.colab import drive\n",
        "drive.mount('/content/drive')\n",
        "import numpy as np\n",
        "import datetime as dt"
      ],
      "metadata": {
        "colab": {
          "base_uri": "https://localhost:8080/"
        },
        "id": "wlHqf_yxiRLS",
        "outputId": "be491824-0e9e-466a-e798-7290ac615928"
      },
      "execution_count": null,
      "outputs": [
        {
          "output_type": "stream",
          "name": "stdout",
          "text": [
            "Mounted at /content/drive\n"
          ]
        }
      ]
    },
    {
      "cell_type": "code",
      "source": [
        "# create the Spark Session\n",
        "spark = SparkSession.builder.getOrCreate()\n",
        "\n",
        "# create the Spark Context\n",
        "sc = spark.sparkContext\n"
      ],
      "metadata": {
        "id": "QHgKeiVLiS2w"
      },
      "execution_count": null,
      "outputs": []
    },
    {
      "cell_type": "code",
      "source": [
        "sqlContext = SQLContext(sc)\n",
        "df_logs = sqlContext.read.csv(\"drive/MyDrive/logs.csv\", header=True, inferSchema=True)\n",
        "rdd_logs = df_logs.select(\"action\", \"title\").rdd"
      ],
      "metadata": {
        "id": "z5LLCkGHiXeC",
        "colab": {
          "base_uri": "https://localhost:8080/"
        },
        "outputId": "42eaa63a-a20a-47bc-9321-c3422a489c7c"
      },
      "execution_count": null,
      "outputs": [
        {
          "output_type": "stream",
          "name": "stderr",
          "text": [
            "/usr/local/lib/python3.10/dist-packages/pyspark/sql/context.py:112: FutureWarning: Deprecated in 3.0.0. Use SparkSession.builder.getOrCreate() instead.\n",
            "  warnings.warn(\n"
          ]
        }
      ]
    },
    {
      "cell_type": "code",
      "source": [
        "rdd = rdd_logs.map(lambda x: ( x.action,(x.action, x.title)) )"
      ],
      "metadata": {
        "id": "peaFC8BVofSA"
      },
      "execution_count": null,
      "outputs": []
    },
    {
      "cell_type": "code",
      "source": [
        "acciones = ['delete', 'block', 'upload', 'protect', 'restore', 'unblock',\n",
        "       'unprotect', 'rights', 'move', 'move_redir', 'renameuser',\n",
        "       'newusers', 'create', 'create2', 'modify', 'patrol', 'autocreate',\n",
        "       'usergroups', 'move_prot', 'reblock', 'event', 'revision',\n",
        "       'interwiki', 'byemail', 'thank', 'add', 'update', 'remove',\n",
        "       'selfadd', 'selfremove', 'review', 'failure', 'skipbadns', 'send',\n",
        "       'unreview', 'skipnouser', 'profilesave', 'undelete', 'merge',\n",
        "       'mergeuser', 'deleteuser', 'delete_redir', 'whitelist', 'change',\n",
        "       'new', 'addlink']"
      ],
      "metadata": {
        "id": "kgWacHU28D2m"
      },
      "execution_count": null,
      "outputs": []
    },
    {
      "cell_type": "markdown",
      "source": [
        "filtro por acciones posibles ya que hay varios post donde se subio como accion el titulo u otra cosa en vez de la accion perse, por lo tanto no me sirve.\n",
        "Ademas filtro los titulos nulos, ya que estos no tienen posibilidad de relacionarse"
      ],
      "metadata": {
        "id": "JwXkFZNfjjH8"
      }
    },
    {
      "cell_type": "code",
      "source": [
        "rdd = rdd.filter(lambda x: x[0] in acciones and x[1][1] != None)"
      ],
      "metadata": {
        "id": "Q3pw1Inn1WcK"
      },
      "execution_count": null,
      "outputs": []
    },
    {
      "cell_type": "code",
      "source": [
        "repeticiones = {}\n",
        "def contar(x):\n",
        "  repeticiones[x[1]] = repeticiones.get(x[1],0) + 1\n",
        "  return repeticiones[x[1]]\n",
        "df = rdd.map(lambda x: (x[0], (x[1][1], contar(x))) )"
      ],
      "metadata": {
        "id": "G_zimikbJRvb"
      },
      "execution_count": null,
      "outputs": []
    },
    {
      "cell_type": "code",
      "source": [
        "df.reduceByKey(lambda x,y: x if x[1] > y[1] else y).collect()"
      ],
      "metadata": {
        "id": "cuYVvSwuQwqw",
        "colab": {
          "base_uri": "https://localhost:8080/"
        },
        "outputId": "ecfacbf3-e040-42e7-e4f5-8c8517332e8c"
      },
      "execution_count": null,
      "outputs": [
        {
          "output_type": "execute_result",
          "data": {
            "text/plain": [
              "[('selfremove',\n",
              "  ('Education Program:Wikimedia Chile/Análisis de Información Documental I (2016-1)',\n",
              "   5)),\n",
              " ('send',\n",
              "  ('Wikipedia:Candidatos a artículos destacados/Boletín/Lista/Prueba', 4)),\n",
              " ('autocreate', ('Usuario:MaSt', 3)),\n",
              " ('usergroups', ('Usuario:Dferg', 3)),\n",
              " ('interwiki', ('Actinozoa', 2)),\n",
              " ('block', ('Usuario:Antoine', 32)),\n",
              " ('move_prot', ('Plantilla:Ficha de entidad subnacional', 34)),\n",
              " ('selfadd',\n",
              "  ('Education Program:Tec de Monterrey, Campus Ciudad de Mexico/Experiencias Retadoras CCM (ene-mayo 2015)',\n",
              "   163)),\n",
              " ('skipbadns', ('User Calypso', 13)),\n",
              " ('profilesave', ('Especial:PerfilDeVoluntarioEnLínea', 6)),\n",
              " ('mergeuser', ('Usuario:DerHexer', 1)),\n",
              " ('renameuser', ('Especial:Renameuser', 102)),\n",
              " ('update', ('Wikipedia:Portada', 505)),\n",
              " ('remove',\n",
              "  ('Education Program:Tec de Monterrey, Campus Ciudad de Mexico/Experiencias Retadoras CCM (ene-mayo 2015)',\n",
              "   10)),\n",
              " ('review', ('Ingeniería de software', 13)),\n",
              " ('thank', ('Usuario:Ontzak', 1486)),\n",
              " ('add', ('(commons)', 57)),\n",
              " ('failure', ('Usuario discusión:Asierog/Wikidata newsletter', 144)),\n",
              " ('undelete', ('Education Program:Universidad Pablo de Olavide', 1)),\n",
              " ('merge', ('Amortiguación', 2)),\n",
              " ('unblock', ('Usuario:Lancha 8795', 8)),\n",
              " ('move_redir', ('Plantilla:RDD', 12)),\n",
              " ('create', ('create', 1011)),\n",
              " ('create2', ('Usuario:MG Richart', 2)),\n",
              " ('delete_redir', ('Discusión:Negre Lloma', 11)),\n",
              " ('change', ('Módulo:Graph/tests', 3)),\n",
              " ('rights', ('Usuario:LuchoCR', 30)),\n",
              " ('event', ('Especial:Registro/delete', 112)),\n",
              " ('restore', ('Plantilla:Ficha de entidad subnacional', 47)),\n",
              " ('byemail', ('Usuario:Magikyty23809pynpynfyte', 1)),\n",
              " ('skipnouser', ('Usuario discusión:WP.NICKNAME.22', 74)),\n",
              " ('deleteuser', ('Usuario:DerHexer', 1)),\n",
              " ('move', ('move', 1190)),\n",
              " ('reblock', ('Usuario:Mar del Sur', 15)),\n",
              " ('revision', ('Wikipedia:Vandalismo en curso', 115)),\n",
              " ('unprotect', ('Usuario:Airunp', 11)),\n",
              " ('modify',\n",
              "  ('Wikipedia:Tablón de anuncios de los bibliotecarios/Portal/Archivo/Miscelánea/Actual',\n",
              "   23)),\n",
              " ('unreview', ('San Ángel', 4)),\n",
              " ('upload', ('Archivo:Ejemplo.jpg', 75)),\n",
              " ('protect', ('move_prot', 265)),\n",
              " ('newusers', ('Especial:Userlogin', 75423)),\n",
              " ('patrol', ('Usuario:Lukecody', 3)),\n",
              " ('addlink', ('Agujero negro binario', 1)),\n",
              " ('delete', ('delete', 2188)),\n",
              " ('whitelist', ('Usuario:82.102.0.0/19', 1)),\n",
              " ('new', ('Módulo:Excerpt/l10n.json', 1))]"
            ]
          },
          "metadata": {},
          "execution_count": 11
        }
      ]
    }
  ]
}